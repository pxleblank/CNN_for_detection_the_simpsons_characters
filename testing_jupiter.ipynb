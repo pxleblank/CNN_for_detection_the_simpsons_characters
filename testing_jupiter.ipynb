{
 "cells": [
  {
   "cell_type": "code",
   "id": "initial_id",
   "metadata": {
    "collapsed": true,
    "ExecuteTime": {
     "end_time": "2024-11-27T12:31:47.317625Z",
     "start_time": "2024-11-27T12:31:47.313662Z"
    }
   },
   "source": [
    "from imports import *\n",
    "from model import ModelVGG11BN\n",
    "from dataset_transform import *\n",
    "from utilities import show_img\n",
    "from preparing_model import model_create"
   ],
   "outputs": [],
   "execution_count": 21
  },
  {
   "metadata": {
    "ExecuteTime": {
     "end_time": "2024-11-27T12:39:08.371646Z",
     "start_time": "2024-11-27T12:39:07.479148Z"
    }
   },
   "cell_type": "code",
   "source": [
    "# Loading the saved model state\n",
    "load_model_state = torch.load('model/nn_model_state_dict_epoch_70(without_all_dropout).pt', weights_only=True)\n",
    "\n",
    "model, optimizer, loss_func, lr_scheduler, checkpoint = model_create()\n",
    "# model = ModelVGG11BN(num_classes)\n",
    "\n",
    "model.load_state_dict(load_model_state['state_model'])\n",
    "optimizer.load_state_dict(load_model_state['state_opt'])\n",
    "lr_scheduler.load_state_dict(load_model_state['state_lr_scheduler'])\n",
    "\n",
    "epochs = load_model_state['epochs']\n",
    "\n",
    "train_loss = load_model_state['loss']['train_loss']\n",
    "train_accuracy = load_model_state['metric']['train_accuracy']\n",
    "val_loss = load_model_state['loss']['val_loss']\n",
    "val_accuracy = load_model_state['metric']['val_accuracy']\n",
    "val_precision = load_model_state['metric']['val_precision']\n",
    "val_recall = load_model_state['metric']['val_recall']\n",
    "val_precision_per_epoch = load_model_state['metric']['val_precision_per_epoch']\n",
    "val_recall_per_epoch = load_model_state['metric']['val_recall_per_epoch']\n",
    "lr_list = load_model_state['lr']\n",
    "best_loss = load_model_state['loss']['best_loss']\n",
    "\n",
    "print(len(load_model_state['loss']['val_loss']))\n",
    "print(load_model_state['state_model'].keys())\n",
    "print(model.state_dict().keys())\n",
    "print(load_model_state.keys())"
   ],
   "id": "8f224bd39d785a4a",
   "outputs": [
    {
     "ename": "RuntimeError",
     "evalue": "Error(s) in loading state_dict for ModelVGG11BN:\n\tMissing key(s) in state_dict: \"classifier.3.weight\", \"classifier.3.bias\", \"classifier.6.weight\", \"classifier.6.bias\". \n\tUnexpected key(s) in state_dict: \"classifier.2.weight\", \"classifier.2.bias\", \"classifier.4.weight\", \"classifier.4.bias\". ",
     "output_type": "error",
     "traceback": [
      "\u001B[1;31m---------------------------------------------------------------------------\u001B[0m",
      "\u001B[1;31mRuntimeError\u001B[0m                              Traceback (most recent call last)",
      "Cell \u001B[1;32mIn[26], line 8\u001B[0m\n\u001B[0;32m      4\u001B[0m model, optimizer, loss_func, lr_scheduler, checkpoint \u001B[38;5;241m=\u001B[39m model_create()\n\u001B[0;32m      5\u001B[0m model \u001B[38;5;241m=\u001B[39m ModelVGG11BN(num_classes)\n\u001B[1;32m----> 8\u001B[0m \u001B[43mmodel\u001B[49m\u001B[38;5;241;43m.\u001B[39;49m\u001B[43mload_state_dict\u001B[49m\u001B[43m(\u001B[49m\u001B[43mload_model_state\u001B[49m\u001B[43m[\u001B[49m\u001B[38;5;124;43m'\u001B[39;49m\u001B[38;5;124;43mstate_model\u001B[39;49m\u001B[38;5;124;43m'\u001B[39;49m\u001B[43m]\u001B[49m\u001B[43m)\u001B[49m\n\u001B[0;32m      9\u001B[0m optimizer\u001B[38;5;241m.\u001B[39mload_state_dict(load_model_state[\u001B[38;5;124m'\u001B[39m\u001B[38;5;124mstate_opt\u001B[39m\u001B[38;5;124m'\u001B[39m])\n\u001B[0;32m     10\u001B[0m lr_scheduler\u001B[38;5;241m.\u001B[39mload_state_dict(load_model_state[\u001B[38;5;124m'\u001B[39m\u001B[38;5;124mstate_lr_scheduler\u001B[39m\u001B[38;5;124m'\u001B[39m])\n",
      "File \u001B[1;32mC:\\PyProjects\\TraningDS\\.venv\\Lib\\site-packages\\torch\\nn\\modules\\module.py:2584\u001B[0m, in \u001B[0;36mModule.load_state_dict\u001B[1;34m(self, state_dict, strict, assign)\u001B[0m\n\u001B[0;32m   2576\u001B[0m         error_msgs\u001B[38;5;241m.\u001B[39minsert(\n\u001B[0;32m   2577\u001B[0m             \u001B[38;5;241m0\u001B[39m,\n\u001B[0;32m   2578\u001B[0m             \u001B[38;5;124m\"\u001B[39m\u001B[38;5;124mMissing key(s) in state_dict: \u001B[39m\u001B[38;5;132;01m{}\u001B[39;00m\u001B[38;5;124m. \u001B[39m\u001B[38;5;124m\"\u001B[39m\u001B[38;5;241m.\u001B[39mformat(\n\u001B[0;32m   2579\u001B[0m                 \u001B[38;5;124m\"\u001B[39m\u001B[38;5;124m, \u001B[39m\u001B[38;5;124m\"\u001B[39m\u001B[38;5;241m.\u001B[39mjoin(\u001B[38;5;124mf\u001B[39m\u001B[38;5;124m'\u001B[39m\u001B[38;5;124m\"\u001B[39m\u001B[38;5;132;01m{\u001B[39;00mk\u001B[38;5;132;01m}\u001B[39;00m\u001B[38;5;124m\"\u001B[39m\u001B[38;5;124m'\u001B[39m \u001B[38;5;28;01mfor\u001B[39;00m k \u001B[38;5;129;01min\u001B[39;00m missing_keys)\n\u001B[0;32m   2580\u001B[0m             ),\n\u001B[0;32m   2581\u001B[0m         )\n\u001B[0;32m   2583\u001B[0m \u001B[38;5;28;01mif\u001B[39;00m \u001B[38;5;28mlen\u001B[39m(error_msgs) \u001B[38;5;241m>\u001B[39m \u001B[38;5;241m0\u001B[39m:\n\u001B[1;32m-> 2584\u001B[0m     \u001B[38;5;28;01mraise\u001B[39;00m \u001B[38;5;167;01mRuntimeError\u001B[39;00m(\n\u001B[0;32m   2585\u001B[0m         \u001B[38;5;124m\"\u001B[39m\u001B[38;5;124mError(s) in loading state_dict for \u001B[39m\u001B[38;5;132;01m{}\u001B[39;00m\u001B[38;5;124m:\u001B[39m\u001B[38;5;130;01m\\n\u001B[39;00m\u001B[38;5;130;01m\\t\u001B[39;00m\u001B[38;5;132;01m{}\u001B[39;00m\u001B[38;5;124m\"\u001B[39m\u001B[38;5;241m.\u001B[39mformat(\n\u001B[0;32m   2586\u001B[0m             \u001B[38;5;28mself\u001B[39m\u001B[38;5;241m.\u001B[39m\u001B[38;5;18m__class__\u001B[39m\u001B[38;5;241m.\u001B[39m\u001B[38;5;18m__name__\u001B[39m, \u001B[38;5;124m\"\u001B[39m\u001B[38;5;130;01m\\n\u001B[39;00m\u001B[38;5;130;01m\\t\u001B[39;00m\u001B[38;5;124m\"\u001B[39m\u001B[38;5;241m.\u001B[39mjoin(error_msgs)\n\u001B[0;32m   2587\u001B[0m         )\n\u001B[0;32m   2588\u001B[0m     )\n\u001B[0;32m   2589\u001B[0m \u001B[38;5;28;01mreturn\u001B[39;00m _IncompatibleKeys(missing_keys, unexpected_keys)\n",
      "\u001B[1;31mRuntimeError\u001B[0m: Error(s) in loading state_dict for ModelVGG11BN:\n\tMissing key(s) in state_dict: \"classifier.3.weight\", \"classifier.3.bias\", \"classifier.6.weight\", \"classifier.6.bias\". \n\tUnexpected key(s) in state_dict: \"classifier.2.weight\", \"classifier.2.bias\", \"classifier.4.weight\", \"classifier.4.bias\". "
     ]
    }
   ],
   "execution_count": 26
  },
  {
   "metadata": {},
   "cell_type": "code",
   "source": [
    "train_loader, _, _ = dataload(*preparing_data())\n",
    "\n",
    "show_img(train_loader)"
   ],
   "id": "46d5af9423bac238",
   "outputs": [],
   "execution_count": null
  }
 ],
 "metadata": {
  "kernelspec": {
   "display_name": "Python 3",
   "language": "python",
   "name": "python3"
  },
  "language_info": {
   "codemirror_mode": {
    "name": "ipython",
    "version": 2
   },
   "file_extension": ".py",
   "mimetype": "text/x-python",
   "name": "python",
   "nbconvert_exporter": "python",
   "pygments_lexer": "ipython2",
   "version": "2.7.6"
  }
 },
 "nbformat": 4,
 "nbformat_minor": 5
}
